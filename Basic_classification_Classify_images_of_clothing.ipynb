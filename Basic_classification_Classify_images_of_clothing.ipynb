{
  "nbformat": 4,
  "nbformat_minor": 0,
  "metadata": {
    "colab": {
      "provenance": [],
      "collapsed_sections": [],
      "authorship_tag": "ABX9TyNjh/MTHUJHOu10aKnylm7P",
      "include_colab_link": true
    },
    "kernelspec": {
      "name": "python3",
      "display_name": "Python 3"
    },
    "language_info": {
      "name": "python"
    }
  },
  "cells": [
    {
      "cell_type": "markdown",
      "metadata": {
        "id": "view-in-github",
        "colab_type": "text"
      },
      "source": [
        "<a href=\"https://colab.research.google.com/github/charaf19/Basic-classification-Classify-images-of-clothing/blob/main/Basic_classification_Classify_images_of_clothing.ipynb\" target=\"_parent\"><img src=\"https://colab.research.google.com/assets/colab-badge.svg\" alt=\"Open In Colab\"/></a>"
      ]
    },
    {
      "cell_type": "code",
      "execution_count": null,
      "metadata": {
        "id": "v50dtZZa0flf"
      },
      "outputs": [],
      "source": [
        "import tensorflow as tf"
      ]
    },
    {
      "cell_type": "code",
      "source": [
        "from tensorflow import keras"
      ],
      "metadata": {
        "id": "3ntj42Y83c1q"
      },
      "execution_count": null,
      "outputs": []
    },
    {
      "cell_type": "code",
      "source": [
        "import numpy as np"
      ],
      "metadata": {
        "id": "nHN3Q_9b3vOP"
      },
      "execution_count": null,
      "outputs": []
    },
    {
      "cell_type": "code",
      "source": [
        "import matplotlib.pyplot as plt"
      ],
      "metadata": {
        "id": "3qfGLcTX305j"
      },
      "execution_count": null,
      "outputs": []
    },
    {
      "cell_type": "markdown",
      "source": [
        "## **Loading the dataset**"
      ],
      "metadata": {
        "id": "pGGH-Ip33-Ry"
      }
    },
    {
      "cell_type": "code",
      "source": [
        "data = tf.keras.datasets.fashion_mnist"
      ],
      "metadata": {
        "id": "CGJlz2la36xn"
      },
      "execution_count": null,
      "outputs": []
    },
    {
      "cell_type": "markdown",
      "source": [
        "# Split the data "
      ],
      "metadata": {
        "id": "-zu2GH7N5Bkm"
      }
    },
    {
      "cell_type": "code",
      "source": [
        "(train_images,train_labels),(test_images,test_labels)= data.load_data()"
      ],
      "metadata": {
        "id": "DL3n5jsm5Gyw"
      },
      "execution_count": null,
      "outputs": []
    },
    {
      "cell_type": "code",
      "source": [
        "class_names = ['T-shirt/top', 'Trouser', 'Pullover', 'Dress', 'Coat',\n",
        "               'Sandal', 'Shirt', 'Sneaker', 'Bag', 'Ankle boot']"
      ],
      "metadata": {
        "id": "mS7O2hHZ518t"
      },
      "execution_count": null,
      "outputs": []
    },
    {
      "cell_type": "code",
      "source": [
        "train_images.shape"
      ],
      "metadata": {
        "colab": {
          "base_uri": "https://localhost:8080/"
        },
        "id": "OCXWBcu66C11",
        "outputId": "38199806-8c33-48bb-ab22-44eea06ffc0b"
      },
      "execution_count": null,
      "outputs": [
        {
          "output_type": "execute_result",
          "data": {
            "text/plain": [
              "(60000, 28, 28)"
            ]
          },
          "metadata": {},
          "execution_count": 17
        }
      ]
    },
    {
      "cell_type": "markdown",
      "source": [
        "# Explore the data"
      ],
      "metadata": {
        "id": "FdMtqHDG6f10"
      }
    },
    {
      "cell_type": "code",
      "source": [
        "plt.imshow(train_images[7],cmap=plt.cm.binary)\n",
        "plt.show"
      ],
      "metadata": {
        "colab": {
          "base_uri": "https://localhost:8080/",
          "height": 282
        },
        "id": "lcQv_s_U6WhZ",
        "outputId": "33c0fdb5-c139-4425-a1be-2f8ce7f0f66a"
      },
      "execution_count": null,
      "outputs": [
        {
          "output_type": "execute_result",
          "data": {
            "text/plain": [
              "<function matplotlib.pyplot.show(*args, **kw)>"
            ]
          },
          "metadata": {},
          "execution_count": 18
        },
        {
          "output_type": "display_data",
          "data": {
            "text/plain": [
              "<Figure size 432x288 with 1 Axes>"
            ],
            "image/png": "[encoded data removed]"
          },
          "metadata": {
            "needs_background": "light"
          }
        }
      ]
    },
    {
      "cell_type": "markdown",
      "source": [
        "# **Create the model**"
      ],
      "metadata": {
        "id": "wKboC-kS8Y7S"
      }
    },
    {
      "cell_type": "code",
      "source": [
        "model = keras.Sequential([    \n",
        "    keras.layers.Flatten(input_shape=(28,28)),\n",
        "    keras.layers.Dense(128,activation=\"relu\"),\n",
        "    keras.layers.Dense(10,activation=\"Softmax\")\n",
        "    ])\n",
        "model.compile(optimizer='adam',loss='sparse_categorical_crossentropy',metrics=['accuracy'])\n",
        "\n",
        "model.fit(train_images,train_labels,epochs=6)\n"
      ],
      "metadata": {
        "id": "vHySzWyP8feW",
        "colab": {
          "base_uri": "https://localhost:8080/"
        },
        "outputId": "63444aeb-9515-4886-d6d1-3b8dbc8932fa"
      },
      "execution_count": null,
      "outputs": [
        {
          "output_type": "stream",
          "name": "stdout",
          "text": [
            "Epoch 1/6\n",
            "1875/1875 [==============================] - 5s 3ms/step - loss: 3.1819 - accuracy: 0.6805\n",
            "Epoch 2/6\n",
            "1875/1875 [==============================] - 5s 3ms/step - loss: 0.7348 - accuracy: 0.7076\n",
            "Epoch 3/6\n",
            "1875/1875 [==============================] - 5s 3ms/step - loss: 0.6658 - accuracy: 0.7362\n",
            "Epoch 4/6\n",
            "1875/1875 [==============================] - 5s 3ms/step - loss: 0.5806 - accuracy: 0.7924\n",
            "Epoch 5/6\n",
            "1875/1875 [==============================] - 5s 3ms/step - loss: 0.5370 - accuracy: 0.8126\n",
            "Epoch 6/6\n",
            "1875/1875 [==============================] - 5s 3ms/step - loss: 0.5142 - accuracy: 0.8214\n"
          ]
        },
        {
          "output_type": "execute_result",
          "data": {
            "text/plain": [
              "<keras.callbacks.History at 0x7f76078e5790>"
            ]
          },
          "metadata": {},
          "execution_count": 32
        }
      ]
    },
    {
      "cell_type": "code",
      "source": [
        "test_loss,test_acc = model.evaluate(test_images,test_labels)\n",
        "print(f'tested acc : {test_acc}')\n",
        "print(f'test loss : {test_loss}')"
      ],
      "metadata": {
        "colab": {
          "base_uri": "https://localhost:8080/"
        },
        "id": "QL7eRazz42Be",
        "outputId": "2265318b-d53b-4921-c5b5-4e82a51fb34c"
      },
      "execution_count": null,
      "outputs": [
        {
          "output_type": "stream",
          "name": "stdout",
          "text": [
            "313/313 [==============================] - 1s 2ms/step - loss: 0.5671 - accuracy: 0.8173\n",
            "tested acc : 0.817300021648407\n",
            "test loss : 0.5671061277389526\n"
          ]
        }
      ]
    },
    {
      "cell_type": "markdown",
      "source": [
        "# New Section"
      ],
      "metadata": {
        "id": "SnNxsTU_6uGG"
      }
    }
  ]
}
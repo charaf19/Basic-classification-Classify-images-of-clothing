{
  "nbformat": 4,
  "nbformat_minor": 0,
  "metadata": {
    "colab": {
      "provenance": [],
      "authorship_tag": "ABX9TyOSOA/EOVJ0VyNcvMQUl2/t",
      "include_colab_link": true
    },
    "kernelspec": {
      "name": "python3",
      "display_name": "Python 3"
    },
    "language_info": {
      "name": "python"
    }
  },
  "cells": [
    {
      "cell_type": "markdown",
      "metadata": {
        "id": "view-in-github",
        "colab_type": "text"
      },
      "source": [
        "<a href=\"https://colab.research.google.com/github/charaf19/Tensorflow/blob/main/TensorFlow_minimal_example_365_DataScience.ipynb\" target=\"_parent\"><img src=\"https://colab.research.google.com/assets/colab-badge.svg\" alt=\"Open In Colab\"/></a>"
      ]
    },
    {
      "cell_type": "markdown",
      "source": [
        "### Import the relevant libraries"
      ],
      "metadata": {
        "id": "WYgaNF7EsO65"
      }
    },
    {
      "cell_type": "code",
      "execution_count": 7,
      "metadata": {
        "id": "TrvZsnVVsKNQ",
        "colab": {
          "base_uri": "https://localhost:8080/"
        },
        "outputId": "cdfd3866-caed-4425-abfc-0e66d4e485ee"
      },
      "outputs": [
        {
          "output_type": "stream",
          "name": "stderr",
          "text": [
            "WARNING:tensorflow:From /usr/local/lib/python3.9/dist-packages/tensorflow/python/compat/v2_compat.py:107: disable_resource_variables (from tensorflow.python.ops.variable_scope) is deprecated and will be removed in a future version.\n",
            "Instructions for updating:\n",
            "non-resource variables are not supported in the long term\n"
          ]
        }
      ],
      "source": [
        "import numpy as np\n",
        "import matplotlib.pyplot as plt\n",
        "import tensorflow.compat.v1 as tf\n",
        "tf.disable_v2_behavior()"
      ]
    },
    {
      "cell_type": "markdown",
      "source": [
        "### Data generation\n",
        "\n",
        "We generate data using the exact same logic and code as the example from the previous notebook. The only difference now is that we save it to an npz file. Npz is numpy's file type which allows you to save numpy arrays into a single .npz file. We introduce this change because in machine learning most often: \n",
        "\n",
        "* you are given some data (csv, database, etc.)\n",
        "* you preprocess it into a desired format (later on we will see methods for preprocesing)\n",
        "* you save it into npz files (if you're working in Python) to access later\n",
        "\n",
        "Nothing to worry about - this is literally saving your NumPy arrays into a file that you can later access, nothing more."
      ],
      "metadata": {
        "id": "FwhmniWHscdb"
      }
    },
    {
      "cell_type": "code",
      "source": [
        "# First, we should declare a variable containing the size of the training set we want to generate.\n",
        "observations = 1000\n",
        "\n",
        "# We will work with two variables as inputs. You can think about them as x1 and x2 in our previous examples.\n",
        "# We have picked x and z, since it is easier to differentiate them.\n",
        "# We generate them randomly, drawing from an uniform distribution. There are 3 arguments of this method (low, high, size).\n",
        "# The size of xs and zs is observations x 1. In this case: 1000 x 1.\n",
        "xs = np.random.uniform(low=-10, high=10, size=(observations,1))\n",
        "zs = np.random.uniform(-10, 10, (observations,1))\n",
        "\n",
        "# Combine the two dimensions of the input into one input matrix. \n",
        "# This is the X matrix from the linear model y = x*w + b.\n",
        "# column_stack is a Numpy method, which combines two matrices (vectors) into one.\n",
        "generated_inputs = np.column_stack((xs,zs))\n",
        "\n",
        "# We add a random small noise to the function i.e. f(x,z) = 2x - 3z + 5 + <small noise>\n",
        "noise = np.random.uniform(-1, 1, (observations,1))\n",
        "\n",
        "# Produce the targets according to our f(x,z) = 2x - 3z + 5 + noise definition.\n",
        "# In this way, we are basically saying: the weights should be 2 and -3, while the bias is 5.\n",
        "generated_targets = 2*xs - 3*zs + 5 + noise\n",
        "\n",
        "# save into an npz file called \"TF_intro\"\n",
        "np.savez('TF_intro', inputs=generated_inputs, targets=generated_targets)"
      ],
      "metadata": {
        "id": "K9kWnYKLsY7u"
      },
      "execution_count": 8,
      "outputs": []
    },
    {
      "cell_type": "markdown",
      "source": [
        "### Solvign with tensorflow"
      ],
      "metadata": {
        "id": "c1U4Cl01s9gJ"
      }
    },
    {
      "cell_type": "code",
      "source": [
        "input_size=2\n",
        "output_size=1"
      ],
      "metadata": {
        "id": "DDLXz2nxtB0P"
      },
      "execution_count": null,
      "outputs": []
    },
    {
      "cell_type": "markdown",
      "source": [
        "### Outlining the model"
      ],
      "metadata": {
        "id": "TM_QtI1HtHxe"
      }
    },
    {
      "cell_type": "code",
      "source": [
        "inputs = tf.compat.v1.placeholder(tf.float32,[None,input_size])\n",
        "targets = tf.compat.v1.placeholder(tf.float32,[None,output_size])\n",
        "weights = tf.Variable(tf.random.uniform([input_size,output_size],minval=-0.1,maxval=0.1))\n",
        "biases = tf.Variable(tf.random.uniform([output_size],minval=-0.1,maxval=0.1))\n",
        "outputs = tf.matmul(inputs,weights) + biases"
      ],
      "metadata": {
        "id": "qJDhYAOitGYk"
      },
      "execution_count": 9,
      "outputs": []
    },
    {
      "cell_type": "markdown",
      "source": [
        "### Choosing the objective function and the optimization method\n"
      ],
      "metadata": {
        "id": "yWKyLvB1wYuZ"
      }
    },
    {
      "cell_type": "code",
      "source": [
        "mean_loss = tf.losses.mean_squared_error(labels=targets,predictions=outputs)/2.\n",
        "optimize = tf.train.GradientDescentOptimizer(learning_rate=0.05).minimize(mean_loss)"
      ],
      "metadata": {
        "id": "XyoFoPqdv8Q3"
      },
      "execution_count": 16,
      "outputs": []
    },
    {
      "cell_type": "markdown",
      "source": [
        "### Prepare for execution\n"
      ],
      "metadata": {
        "id": "5ZhXSykdyDIe"
      }
    },
    {
      "cell_type": "code",
      "source": [
        "sess = tf.InteractiveSession()"
      ],
      "metadata": {
        "id": "FQ3EwGSNxWZx"
      },
      "execution_count": 12,
      "outputs": []
    },
    {
      "cell_type": "markdown",
      "source": [
        "### Initializing the variables"
      ],
      "metadata": {
        "id": "HfMqMTozykjT"
      }
    },
    {
      "cell_type": "code",
      "source": [
        "initializer = tf.global_variables_initializer()\n",
        "sess.run(initializer)"
      ],
      "metadata": {
        "id": "Yc15EVAdyocf"
      },
      "execution_count": 13,
      "outputs": []
    },
    {
      "cell_type": "markdown",
      "source": [
        "### Loading training data"
      ],
      "metadata": {
        "id": "aELUoaXTzQgW"
      }
    },
    {
      "cell_type": "code",
      "source": [
        "training_data = np.load('TF_intro.npz')"
      ],
      "metadata": {
        "id": "MJgPeB-QzLub"
      },
      "execution_count": 14,
      "outputs": []
    },
    {
      "cell_type": "markdown",
      "source": [
        "### Learning"
      ],
      "metadata": {
        "id": "O6ivouuTzjvo"
      }
    },
    {
      "cell_type": "code",
      "source": [
        "for e in range(100):\n",
        "  _, curr_loss = sess.run([optimize,mean_loss],feed_dict={inputs: training_data['inputs'],targets:training_data['targets']})\n",
        "  print(curr_loss)"
      ],
      "metadata": {
        "colab": {
          "base_uri": "https://localhost:8080/"
        },
        "id": "s81AYTvgznCm",
        "outputId": "a2d72fe1-75ec-4c45-efde-f285ad2ea92f"
      },
      "execution_count": 17,
      "outputs": [
        {
          "output_type": "stream",
          "name": "stdout",
          "text": [
            "249.48563\n",
            "137.62772\n",
            "77.60229\n",
            "45.183113\n",
            "27.512524\n",
            "17.747055\n",
            "12.235894\n",
            "9.027383\n",
            "7.0760036\n",
            "5.8202295\n",
            "4.957406\n",
            "4.323547\n",
            "3.8290415\n",
            "3.4242713\n",
            "3.081194\n",
            "2.783459\n",
            "2.5211122\n",
            "2.2877383\n",
            "2.078926\n",
            "1.8914306\n",
            "1.7227213\n",
            "1.5707227\n",
            "1.4336773\n",
            "1.3100582\n",
            "1.1985208\n",
            "1.097868\n",
            "1.007029\n",
            "0.92504305\n",
            "0.8510438\n",
            "0.7842528\n",
            "0.72396743\n",
            "0.66955227\n",
            "0.620437\n",
            "0.57610464\n",
            "0.53608924\n",
            "0.49997064\n",
            "0.46736932\n",
            "0.43794274\n",
            "0.41138172\n",
            "0.38740686\n",
            "0.3657669\n",
            "0.34623426\n",
            "0.3286037\n",
            "0.3126899\n",
            "0.29832593\n",
            "0.28536072\n",
            "0.27365783\n",
            "0.26309472\n",
            "0.25356022\n",
            "0.24495429\n",
            "0.23718634\n",
            "0.23017496\n",
            "0.22384603\n",
            "0.2181336\n",
            "0.2129772\n",
            "0.20832317\n",
            "0.20412232\n",
            "0.2003305\n",
            "0.19690803\n",
            "0.19381876\n",
            "0.1910304\n",
            "0.18851341\n",
            "0.1862416\n",
            "0.18419094\n",
            "0.18234009\n",
            "0.18066949\n",
            "0.17916153\n",
            "0.17780046\n",
            "0.17657183\n",
            "0.17546289\n",
            "0.17446192\n",
            "0.1735585\n",
            "0.17274307\n",
            "0.17200693\n",
            "0.17134252\n",
            "0.17074284\n",
            "0.17020148\n",
            "0.16971292\n",
            "0.16927192\n",
            "0.16887382\n",
            "0.16851455\n",
            "0.16819024\n",
            "0.16789752\n",
            "0.16763331\n",
            "0.16739477\n",
            "0.1671795\n",
            "0.16698515\n",
            "0.16680978\n",
            "0.16665149\n",
            "0.1665086\n",
            "0.16637965\n",
            "0.16626324\n",
            "0.16615814\n",
            "0.1660633\n",
            "0.16597769\n",
            "0.16590038\n",
            "0.16583064\n",
            "0.1657677\n",
            "0.16571087\n",
            "0.1656596\n"
          ]
        }
      ]
    },
    {
      "cell_type": "markdown",
      "source": [
        "### Ploting the data"
      ],
      "metadata": {
        "id": "8jr4yuUj3ldQ"
      }
    },
    {
      "cell_type": "code",
      "source": [
        "out = sess.run([outputs],feed_dict={inputs: training_data['inputs']})\n",
        "plt.plot(np.squeeze(out),np.squeeze(training_data['targets']))\n",
        "plt.xlabel('Outputs')\n",
        "plt.ylabel('targets')\n",
        "plt.show()"
      ],
      "metadata": {
        "colab": {
          "base_uri": "https://localhost:8080/",
          "height": 279
        },
        "id": "SeKZ4RO03p7e",
        "outputId": "cd86c1cd-f5c5-4ed7-ded0-9ad6277873c1"
      },
      "execution_count": 18,
      "outputs": [
        {
          "output_type": "display_data",
          "data": {
            "text/plain": [
              "<Figure size 432x288 with 1 Axes>"
            ],
            "image/png": "[encoded data removed]"
          },
          "metadata": {
            "needs_background": "light"
          }
        }
      ]
    },
    {
      "cell_type": "code",
      "source": [],
      "metadata": {
        "id": "m9LlIN6t4ceF"
      },
      "execution_count": null,
      "outputs": []
    }
  ]
}
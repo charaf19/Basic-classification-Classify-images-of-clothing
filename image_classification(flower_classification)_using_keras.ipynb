{
  "nbformat": 4,
  "nbformat_minor": 0,
  "metadata": {
    "colab": {
      "provenance": [],
      "authorship_tag": "ABX9TyO0llFFQyJ42OOAFJE6KC8w",
      "include_colab_link": true
    },
    "kernelspec": {
      "name": "python3",
      "display_name": "Python 3"
    },
    "language_info": {
      "name": "python"
    }
  },
  "cells": [
    {
      "cell_type": "markdown",
      "metadata": {
        "id": "view-in-github",
        "colab_type": "text"
      },
      "source": [
        "<a href=\"https://colab.research.google.com/github/charaf19/Tensorflow/blob/main/image_classification(flower_classification)_using_keras.ipynb\" target=\"_parent\"><img src=\"https://colab.research.google.com/assets/colab-badge.svg\" alt=\"Open In Colab\"/></a>"
      ]
    },
    {
      "cell_type": "code",
      "source": [
        "import matplotlib.pyplot as plt\n",
        "import numpy as np\n",
        "import PIL \n",
        "import tensorflow as tf\n",
        "import pathlib\n",
        "from tensorflow import keras\n",
        "from tensorflow.keras import layers\n",
        "from tensorflow.keras.models import Sequential\n",
        "from keras.utils import image_dataset_from_directory"
      ],
      "metadata": {
        "id": "qTGB8BXVTFZp"
      },
      "execution_count": 14,
      "outputs": []
    },
    {
      "cell_type": "code",
      "source": [
        "def load_images(path):\n",
        "  dataset_url = path\n",
        "  data_dir = tf.keras.utils.get_file('flower_photos', origin=dataset_url, untar=True)\n",
        "  data_dir = pathlib.Path(data_dir)\n",
        "  image_count = len(list(data_dir.glob('*/*.jpg')))\n",
        "  return image_count,data_dir"
      ],
      "metadata": {
        "id": "7U_k48fmVTnd"
      },
      "execution_count": 12,
      "outputs": []
    },
    {
      "cell_type": "code",
      "source": [
        "def gen_training_set(data_dir,img_h,img_w,batch_size):\n",
        "  train_ds = image_dataset_from_directory(\n",
        "      data_dir,\n",
        "      image_size=(img_h,img_w),\n",
        "      subset=\"training\",\n",
        "      seed=123,\n",
        "      batch_size=batch_size,\n",
        "      validation_split=0.2\n",
        "  )\n",
        "  val_ds = image_dataset_from_directory(\n",
        "      data_dir,\n",
        "      image_size=(img_h,img_w),\n",
        "      subset=\"validation\",\n",
        "      seed=123,\n",
        "      batch_size=batch_size,\n",
        "      validation_split=0.2\n",
        "  )\n",
        "  class_names = train_ds.class_names\n",
        "  print(f\"class names found in the directry {class_names}\")\n",
        "  return train_ds,val_ds,class_names"
      ],
      "metadata": {
        "id": "Ibcbg0PmY2v-"
      },
      "execution_count": null,
      "outputs": []
    },
    {
      "cell_type": "code",
      "source": [
        "#the main code\n",
        "image_count, data_dir=load_images(\"https://storage.googleapis.com/download.tensorflow.org/example_images/flower_photos.tgz\")\n",
        "print(f\"the image count is {image_count} and the location of the folder since i am using colab is {data_dir}\")\n",
        "batch_size=32\n",
        "img_height=180\n",
        "img_width=180"
      ],
      "metadata": {
        "id": "YlmmIfy7VnHQ"
      },
      "execution_count": null,
      "outputs": []
    }
  ]
}